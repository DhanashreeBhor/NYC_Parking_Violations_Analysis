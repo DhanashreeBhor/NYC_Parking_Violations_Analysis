{
 "cells": [
  {
   "cell_type": "code",
   "execution_count": 0,
   "metadata": {
    "application/vnd.databricks.v1+cell": {
     "cellMetadata": {
      "byteLimit": 2048000,
      "rowLimit": 10000
     },
     "inputWidgets": {},
     "nuid": "0f9ceadf-6b2a-4f2c-bca5-6d0cb33facd1",
     "showTitle": false,
     "title": ""
    }
   },
   "outputs": [
    {
     "output_type": "stream",
     "name": "stdout",
     "output_type": "stream",
     "text": [
      "Adls_raw_path : abfs://bronze@nycdbda.dfs.core.windows.net/\nAdls_silver_path : abfs://silver@nycdbda.dfs.core.windows.net/\n"
     ]
    }
   ],
   "source": [
    "%run ./Connection"
   ]
  },
  {
   "cell_type": "code",
   "execution_count": 0,
   "metadata": {
    "application/vnd.databricks.v1+cell": {
     "cellMetadata": {
      "byteLimit": 2048000,
      "rowLimit": 10000
     },
     "inputWidgets": {},
     "nuid": "d8461165-2bcd-46fc-bec0-8cdd2fca0e28",
     "showTitle": false,
     "title": ""
    }
   },
   "outputs": [],
   "source": [
    "data1 = spark.read.csv(f\"{Adls_raw_path}/Parking_Violations_Issued_Fiscal_Year_2020.csv\",header='True').fillna('')\n",
    "data2 = spark.read.csv(f\"{Adls_raw_path}/Parking_Violations_Issued_Fiscal_Year_2021.csv\",header='True').fillna('')\n",
    "data3 = spark.read.csv(f\"{Adls_raw_path}/Parking_Violations_Issued_Fiscal_Year_2022.csv\",header='True').fillna('')\n",
    "data4 = spark.read.csv(f\"{Adls_raw_path}/Parking_Violations_Issued_Fiscal_Year_2023.csv\",header='True').fillna('')\n",
    "data5 = spark.read.csv(f\"{Adls_raw_path}/Parking_Violations_Issued_Fiscal_Year_2024.csv\",header='True').fillna('')"
   ]
  },
  {
   "cell_type": "code",
   "execution_count": 0,
   "metadata": {
    "application/vnd.databricks.v1+cell": {
     "cellMetadata": {
      "byteLimit": 2048000,
      "rowLimit": 10000
     },
     "inputWidgets": {},
     "nuid": "96702c64-fa5c-482f-90bb-823170386001",
     "showTitle": false,
     "title": ""
    }
   },
   "outputs": [],
   "source": [
    "data = data1.union(data2).union(data3).union(data4).union(data5)"
   ]
  },
  {
   "cell_type": "code",
   "execution_count": 0,
   "metadata": {
    "application/vnd.databricks.v1+cell": {
     "cellMetadata": {
      "byteLimit": 2048000,
      "rowLimit": 10000
     },
     "inputWidgets": {},
     "nuid": "0f6c415f-ef38-45f7-8f26-aca7c37ae2b8",
     "showTitle": false,
     "title": ""
    }
   },
   "outputs": [],
   "source": [
    "nyc = data.toDF(*(col.replace(\" \",\"_\") for col in data.columns))\n",
    "nyc.createOrReplaceTempView(\"data\")\n",
    "# data.count()"
   ]
  },
  {
   "cell_type": "code",
   "execution_count": 0,
   "metadata": {
    "application/vnd.databricks.v1+cell": {
     "cellMetadata": {
      "byteLimit": 2048000,
      "rowLimit": 10000
     },
     "inputWidgets": {},
     "nuid": "b28effd1-5b33-43b3-900c-79d7ce11b6c3",
     "showTitle": false,
     "title": ""
    }
   },
   "outputs": [],
   "source": [
    "nyc_columns = spark.sql(\"\"\"SELECT DISTINCT Summons_Number,Plate_ID,Registration_State,Plate_Type,\n",
    "                         LEFT(replace(Issue_Date,'/','') ,8) AS Issue_Date,Violation_Code,\n",
    "                         Vehicle_Body_Type,Vehicle_Make,Issuer_Precinct,Issuer_Code,\n",
    "                         Violation_Time,Violation_County\n",
    "                         FROM nyc\"\"\")"
   ]
  },
  {
   "cell_type": "code",
   "execution_count": 0,
   "metadata": {
    "application/vnd.databricks.v1+cell": {
     "cellMetadata": {},
     "inputWidgets": {},
     "nuid": "74823870-b889-4248-aded-31634cf61f9f",
     "showTitle": false,
     "title": ""
    }
   },
   "outputs": [],
   "source": []
  },
  {
   "cell_type": "code",
   "execution_count": 0,
   "metadata": {
    "application/vnd.databricks.v1+cell": {
     "cellMetadata": {
      "byteLimit": 2048000,
      "rowLimit": 10000
     },
     "inputWidgets": {},
     "nuid": "c7a0c093-ddf9-48db-a8ad-37367b207f59",
     "showTitle": false,
     "title": ""
    }
   },
   "outputs": [],
   "source": [
    "#Converting Issued_Date column string datatype to date datatype \n",
    "from pyspark.sql.functions import *\n",
    "nyc = nyc_columns.withColumn(\"Issue_Date\", to_date('Issue_Date','MMddyyyy'))"
   ]
  },
  {
   "cell_type": "code",
   "execution_count": 0,
   "metadata": {
    "application/vnd.databricks.v1+cell": {
     "cellMetadata": {
      "byteLimit": 2048000,
      "rowLimit": 10000
     },
     "inputWidgets": {},
     "nuid": "33f8da0b-3d0d-4eef-bebe-a6ca6d4015d7",
     "showTitle": false,
     "title": ""
    }
   },
   "outputs": [],
   "source": [
    "nyc.createOrReplaceTempView(\"data\")"
   ]
  },
  {
   "cell_type": "code",
   "execution_count": 0,
   "metadata": {
    "application/vnd.databricks.v1+cell": {
     "cellMetadata": {
      "byteLimit": 2048000,
      "rowLimit": 10000
     },
     "inputWidgets": {},
     "nuid": "581a8a53-709b-4b2b-86d5-cce6daaf535e",
     "showTitle": false,
     "title": ""
    }
   },
   "outputs": [],
   "source": [
    "#Extracting data for fiscal year 2019-06-01 to 2024-01-15\n",
    "nyc = spark.sql(f\"\"\"\n",
    "                    SELECT * FROM data WHERE Issue_Date >= '2019-06-01' AND Issue_Date <= '2024-01-15'\n",
    "                 \"\"\")"
   ]
  },
  {
   "cell_type": "code",
   "execution_count": 0,
   "metadata": {
    "application/vnd.databricks.v1+cell": {
     "cellMetadata": {
      "byteLimit": 2048000,
      "rowLimit": 10000
     },
     "inputWidgets": {},
     "nuid": "cf323875-6b7e-4c3d-b268-db61b388bc91",
     "showTitle": false,
     "title": ""
    }
   },
   "outputs": [
    {
     "output_type": "execute_result",
     "data": {
      "text/plain": [
       "27507503"
      ]
     },
     "execution_count": 84,
     "metadata": {},
     "output_type": "execute_result"
    }
   ],
   "source": [
    "nyc.count()"
   ]
  },
  {
   "cell_type": "code",
   "execution_count": 0,
   "metadata": {
    "application/vnd.databricks.v1+cell": {
     "cellMetadata": {
      "byteLimit": 2048000,
      "rowLimit": 10000
     },
     "inputWidgets": {},
     "nuid": "98260821-58ea-4b93-bee1-3b421280411d",
     "showTitle": false,
     "title": ""
    }
   },
   "outputs": [
    {
     "output_type": "stream",
     "name": "stdout",
     "output_type": "stream",
     "text": [
      "+--------------+--------+------------------+----------+----------+--------------+-----------------+------------+---------------+-----------+--------------+----------------+\n|Summons_Number|Plate_ID|Registration_State|Plate_Type|Issue_Date|Violation_Code|Vehicle_Body_Type|Vehicle_Make|Issuer_Precinct|Issuer_Code|Violation_Time|Violation_County|\n+--------------+--------+------------------+----------+----------+--------------+-----------------+------------+---------------+-----------+--------------+----------------+\n|    1447620008|  83ST36|                NY|       MOT|2019-06-01|            24|                 |       TRIUM|            835|        317|         0445P|               Q|\n|    1447619997|  JFVI75|                FL|       PAS|2019-06-01|            24|              VAN|        CHRY|            835|        317|         1115P|               Q|\n|    1447619961| IAMBEAN|                NY|       SRF|2019-06-01|            24|             SUBN|        JEEP|            835|        317|         1105A|               Q|\n|    1447627453| KWG0481|                PA|       PAS|2019-06-01|            83|             SUBN|        FORD|            835|        107|         1218A|               Q|\n|    4011389225|T739436C|                NY|       OMT|2019-06-01|             5|             SUBN|       HONDA|              0|          0|         0911P|              QN|\n|    1447636521| CBZJ932|                TX|       PAS|2019-06-01|            24|              SDN|       ACURA|            835|        670|         0500P|               Q|\n|    1414351197| JHN9131|                NY|       PAS|2019-06-01|            71|              SDN|       CHEVR|            835|         24|         0325P|               K|\n|    1447619985|  6JX427|                NY|       PAS|2019-06-01|            24|              SDN|        HYUN|            836|        310|         1105A|               Q|\n|    1447636545| HZH7069|                NY|       PAS|2019-06-01|            24|             SUBN|       NISSA|            835|        670|         0510P|               Q|\n|    1447620033|  83ST36|                NY|       MOT|2019-06-01|            62|                 |            |            835|        317|         0445P|               Q|\n|    4011389201| SUBIBOY|                NY|       SRF|2019-06-01|             5|             SUBN|       SUBAR|              0|          0|         0619P|              BK|\n|    1447620010|  B3ST36|                NY|       MOT|2019-06-01|            74|                 |       TRIUM|            835|        317|         0445P|               Q|\n|    4011389213| GSN9609|                NY|       PAS|2019-06-01|             5|             SUBN|       ACURA|              0|          0|         0810P|              MN|\n|    1447635942| HRH4627|                NY|       PAS|2019-06-01|            24|             SUBN|       HYUND|            835|        118|         1116A|               Q|\n|    1447636557| HZZ5485|                NY|       PAS|2019-06-01|            24|             SUBN|       MITSU|            835|        670|         0515P|               Q|\n|    1447627430| FFW3298|                NY|       PAS|2019-06-01|            20|              SDN|       TOYOT|            835|        107|         1203A|               Q|\n|    1447629875| GMJ3129|                NY|       PAS|2019-06-01|            24|              SDN|       HONDA|            835|        421|         0325P|                |\n|    1447636533| JBX7791|                NY|       PAS|2019-06-01|            24|              SDN|       HONDA|            835|        670|         0505P|               Q|\n|    1440069724| HYU9924|                NY|       PAS|2019-06-01|            46|             SUBN|       NISSA|            121|     956959|         1125A|               R|\n|    1447627441| KWG0481|                PA|       PAS|2019-06-01|            20|              SDN|        FORD|            835|        107|         1209A|               Q|\n+--------------+--------+------------------+----------+----------+--------------+-----------------+------------+---------------+-----------+--------------+----------------+\nonly showing top 20 rows\n\n"
     ]
    }
   ],
   "source": [
    "nyc.show()"
   ]
  },
  {
   "cell_type": "code",
   "execution_count": 0,
   "metadata": {
    "application/vnd.databricks.v1+cell": {
     "cellMetadata": {
      "byteLimit": 2048000,
      "rowLimit": 10000
     },
     "inputWidgets": {},
     "nuid": "7dd85404-d69c-4c64-b244-f26c351803ac",
     "showTitle": false,
     "title": ""
    }
   },
   "outputs": [
    {
     "output_type": "stream",
     "name": "stdout",
     "output_type": "stream",
     "text": [
      "Summons_Number ------ 0.0\nPlate_ID ------------ 0.0\nRegistration_State -- 0.0\nPlate_Type ---------- 0.0\nIssue_Date ---------- 0.0\nViolation_Code ------ 0.0\nVehicle_Body_Type --- 0.0\nVehicle_Make -------- 0.0\nIssuer_Precinct ----- 0.0\nIssuer_Code --------- 0.0\nViolation_Time ------ 0.0\nViolation_County ---- 0.0\n"
     ]
    }
   ],
   "source": [
    "#checking null values\n",
    "from pyspark.sql.functions import col\n",
    "\n",
    "for i in nyc.columns:\n",
    "    print(i,(20-len(i))*\"-\",((nyc.filter(nyc[i].isNull()).count())/nyc.count())*100)"
   ]
  },
  {
   "cell_type": "code",
   "execution_count": 0,
   "metadata": {
    "application/vnd.databricks.v1+cell": {
     "cellMetadata": {
      "byteLimit": 2048000,
      "rowLimit": 10000
     },
     "inputWidgets": {},
     "nuid": "61f8fd07-1f57-46dc-8e97-49949e73b9c9",
     "showTitle": false,
     "title": ""
    }
   },
   "outputs": [],
   "source": [
    "#Dropping null values from data \n",
    "nyc = nyc.na.drop()"
   ]
  },
  {
   "cell_type": "code",
   "execution_count": 0,
   "metadata": {
    "application/vnd.databricks.v1+cell": {
     "cellMetadata": {
      "byteLimit": 2048000,
      "rowLimit": 10000
     },
     "inputWidgets": {},
     "nuid": "a08be94f-8222-43fb-92f0-5ce1f18a6996",
     "showTitle": false,
     "title": ""
    }
   },
   "outputs": [
    {
     "output_type": "execute_result",
     "data": {
      "text/plain": [
       "27507503"
      ]
     },
     "execution_count": 92,
     "metadata": {},
     "output_type": "execute_result"
    }
   ],
   "source": [
    "# Check for the number of rows \n",
    "nyc.count()"
   ]
  },
  {
   "cell_type": "code",
   "execution_count": 0,
   "metadata": {
    "application/vnd.databricks.v1+cell": {
     "cellMetadata": {
      "byteLimit": 2048000,
      "rowLimit": 10000
     },
     "inputWidgets": {},
     "nuid": "b24bfeed-16d0-48f9-8db7-fee09c0bdc78",
     "showTitle": false,
     "title": ""
    }
   },
   "outputs": [],
   "source": [
    "#Replacihg the state named 99 with NY, as NY has the maximum violations.\n",
    "\n",
    "nyc = nyc.withColumn('Registration_State', regexp_replace('Registration_State', '99', 'NY'))"
   ]
  },
  {
   "cell_type": "code",
   "execution_count": 0,
   "metadata": {
    "application/vnd.databricks.v1+cell": {
     "cellMetadata": {
      "byteLimit": 2048000,
      "rowLimit": 10000
     },
     "inputWidgets": {},
     "nuid": "ad832675-13e4-4845-82b5-007914af7d41",
     "showTitle": false,
     "title": ""
    }
   },
   "outputs": [],
   "source": [
    "#Removing the rows containing value as BLANKPLATE for plate_id \n",
    "nyc = nyc[nyc.Plate_ID != 'BLANKPLATE'] "
   ]
  },
  {
   "cell_type": "code",
   "execution_count": 0,
   "metadata": {
    "application/vnd.databricks.v1+cell": {
     "cellMetadata": {
      "byteLimit": 2048000,
      "rowLimit": 10000
     },
     "inputWidgets": {},
     "nuid": "a3098c3a-3730-4375-b7ad-2875920c82c3",
     "showTitle": false,
     "title": ""
    }
   },
   "outputs": [],
   "source": [
    "#Removing the rows containing value as 999 for plate_id \n",
    "nyc = nyc[nyc.Plate_ID != '999']"
   ]
  },
  {
   "cell_type": "code",
   "execution_count": 0,
   "metadata": {
    "application/vnd.databricks.v1+cell": {
     "cellMetadata": {
      "byteLimit": 2048000,
      "rowLimit": 10000
     },
     "inputWidgets": {},
     "nuid": "f1c14091-5ed2-4098-ad9b-49ecf8858494",
     "showTitle": false,
     "title": ""
    }
   },
   "outputs": [],
   "source": [
    "#Codes other than those between 1 and 99 are invalid so removing rows with 0 as violation code\n",
    "nyc = nyc[nyc.Violation_Code != 0 ]"
   ]
  },
  {
   "cell_type": "code",
   "execution_count": 0,
   "metadata": {
    "application/vnd.databricks.v1+cell": {
     "cellMetadata": {
      "byteLimit": 2048000,
      "rowLimit": 10000
     },
     "inputWidgets": {},
     "nuid": "a53713fe-81dd-4320-8cbe-8cc8062123d5",
     "showTitle": false,
     "title": ""
    }
   },
   "outputs": [],
   "source": [
    "#Issuing Precinct having invalid entry So removing from columns\n",
    "nyc = nyc[nyc.Issuer_Precinct != 0 ]"
   ]
  },
  {
   "cell_type": "code",
   "execution_count": 0,
   "metadata": {
    "application/vnd.databricks.v1+cell": {
     "cellMetadata": {
      "byteLimit": 2048000,
      "rowLimit": 10000
     },
     "inputWidgets": {},
     "nuid": "e05fc740-c7b0-42f6-9b41-255bef18e695",
     "showTitle": false,
     "title": ""
    }
   },
   "outputs": [
    {
     "output_type": "stream",
     "name": "stdout",
     "output_type": "stream",
     "text": [
      "root\n |-- Summons_Number: string (nullable = false)\n |-- Plate_ID: string (nullable = false)\n |-- Registration_State: string (nullable = false)\n |-- Plate_Type: string (nullable = false)\n |-- Issue_Date: date (nullable = true)\n |-- Violation_Code: string (nullable = false)\n |-- Vehicle_Body_Type: string (nullable = false)\n |-- Vehicle_Make: string (nullable = false)\n |-- Issuer_Precinct: string (nullable = false)\n |-- Issuer_Code: string (nullable = false)\n |-- Violation_County: string (nullable = false)\n |-- violation_hour: integer (nullable = true)\n |-- violation_minutes: integer (nullable = true)\n\n"
     ]
    }
   ],
   "source": [
    "from pyspark.sql.functions import col, when, unix_timestamp\n",
    "\n",
    "# Extracting hours, minutes, and AM/PM values from Violation Time column\n",
    "nyc = nyc.withColumn(\"violation_hour\", col(\"Violation_Time\").substr(1,2).cast(\"int\"))\n",
    "nyc = nyc.withColumn(\"violation_minutes\", col(\"Violation_Time\").substr(3,2).cast(\"int\"))\n",
    "nyc = nyc.withColumn(\"violation_ampm\", col(\"Violation_Time\").substr(5,1))\n",
    "\n",
    "# Converting AM/PM time to absolute hours ranging from 0-23\n",
    "nyc = nyc.withColumn(\"violation_hour\", \n",
    "                   when((col(\"violation_hour\") == 12) & (col(\"violation_ampm\") == 'A'), 0)\n",
    "                   .when((col(\"violation_hour\") != 12) & (col(\"violation_ampm\") == 'P'), col(\"violation_hour\") + 12)\n",
    "                   .otherwise(col(\"violation_hour\")))\n",
    "\n",
    "# After extracting the information, these columns are not required and hence dropped\n",
    "nyc = nyc.drop(\"Violation_Time\", \"violation_ampm\")\n",
    "\n",
    "# Printing the schema now\n",
    "nyc.printSchema()"
   ]
  },
  {
   "cell_type": "code",
   "execution_count": 0,
   "metadata": {
    "application/vnd.databricks.v1+cell": {
     "cellMetadata": {
      "byteLimit": 2048000,
      "rowLimit": 10000
     },
     "inputWidgets": {},
     "nuid": "6c3c574a-c8ee-456a-a57e-c4007820cceb",
     "showTitle": false,
     "title": ""
    }
   },
   "outputs": [
    {
     "output_type": "execute_result",
     "data": {
      "text/plain": [
       "15559573"
      ]
     },
     "execution_count": 115,
     "metadata": {},
     "output_type": "execute_result"
    }
   ],
   "source": [
    "nyc.count()"
   ]
  },
  {
   "cell_type": "code",
   "execution_count": 0,
   "metadata": {
    "application/vnd.databricks.v1+cell": {
     "cellMetadata": {
      "byteLimit": 2048000,
      "rowLimit": 10000
     },
     "inputWidgets": {},
     "nuid": "430990bc-6d5b-4997-84f0-ab6c607bc04f",
     "showTitle": false,
     "title": ""
    }
   },
   "outputs": [
    {
     "output_type": "stream",
     "name": "stdout",
     "output_type": "stream",
     "text": [
      "+--------------+--------+------------------+----------+----------+--------------+-----------------+------------+---------------+-----------+----------------+--------------+-----------------+\n|Summons_Number|Plate_ID|Registration_State|Plate_Type|Issue_Date|Violation_Code|Vehicle_Body_Type|Vehicle_Make|Issuer_Precinct|Issuer_Code|Violation_County|violation_hour|violation_minutes|\n+--------------+--------+------------------+----------+----------+--------------+-----------------+------------+---------------+-----------+----------------+--------------+-----------------+\n|    1455214498| HMW4232|                NY|       PAS|2019-06-03|            20|              SDN|       SUBAR|              1|     160474|              NY|            18|               38|\n|    1446885938| 71639MM|                NY|       COM|2019-06-04|            14|              VAN|        KERB|              1|     160491|              NY|            15|               28|\n|    1455244922| DAX8354|                NY|       PAS|2019-06-07|            14|             SUBN|       CHEVR|              1|     160638|              NY|            12|               17|\n|    1455273119| JDM9428|                NY|       PAS|2019-06-08|            50|              SDN|       NISSA|              4|     160425|               K|            17|               22|\n|    1453307898| HZD7219|                NY|       PAS|2019-06-09|            27|              SDN|       HONDA|              2|     160283|              BX|             5|               47|\n|    1455241106| FEE9763|                NY|       PAS|2019-06-09|            98|              SDN|       HONDA|              1|     160347|              NY|            10|               41|\n|    1424793300| 90446MK|                NY|       OMT|2019-06-10|            78|             DELV|       CHEVR|            105|     925323|                |             2|               10|\n|    1449833433|T716549C|                NY|       999|2019-06-11|            46|              SDN|       TOYOT|             77|     957552|               K|             3|               15|\n|    1446995331| FDY1707|                NY|       PAS|2019-06-11|            53|             SUBN|       ME/BE|              1|     160670|              NY|             9|                6|\n|    1403552332| 4EXA227|                CA|       PAS|2019-06-11|            19|              VAN|       VOLKS|            120|     962705|               R|            21|                4|\n|    1449603270| HYB5425|                NY|       PAS|2019-06-11|            40|              SDN|       DODGE|             30|     954738|               K|            22|               40|\n|    1447515158| JGX6840|                NY|       PAS|2019-06-11|            50|             SUBN|       NISSA|            120|     961466|               R|            16|               43|\n|    1459038939| 56266MG|                NY|       COM|2019-06-12|            51|              VAN|       FRUEH|            401|     927706|               K|            10|                0|\n|    1458944335| 0007AFD|                NY|       PAS|2019-06-12|            64|              VAN|       TOYOT|            401|     894955|              NY|            11|               53|\n|    1447683067|  VSE371|                NY|       PAS|2019-06-12|            20|              SDN|       CHRYS|            839|     111129|              NY|            15|               10|\n|    1414566761| 86528MC|                NY|       COM|2019-06-12|            46|             COMT|       ISUZU|            982|     600164|              BX|            11|               14|\n|    1459052808| 74895PC|                NY|       COM|2019-06-13|            46|             DELV|       INTER|            401|     959394|              NY|            11|               10|\n|    1459059803|  XGCX81|                NJ|       PAS|2019-06-13|            14|              P-U|       ISUZU|            401|     923774|               K|            11|                7|\n|    1454369619|  XGSG87|                NJ|       PAS|2019-06-13|            46|             DELV|            |            401|     934307|                |             9|               44|\n|    1452215297| 44091MA|                NY|       COM|2019-06-13|            78|             DELV|       ISUZU|            101|     944711|               Q|            22|               17|\n+--------------+--------+------------------+----------+----------+--------------+-----------------+------------+---------------+-----------+----------------+--------------+-----------------+\nonly showing top 20 rows\n\n"
     ]
    }
   ],
   "source": [
    "nyc.show()"
   ]
  },
  {
   "cell_type": "code",
   "execution_count": 0,
   "metadata": {
    "application/vnd.databricks.v1+cell": {
     "cellMetadata": {
      "byteLimit": 2048000,
      "rowLimit": 10000
     },
     "inputWidgets": {},
     "nuid": "60785cb8-004c-4d3a-b7ad-3c9b2c74c460",
     "showTitle": false,
     "title": ""
    }
   },
   "outputs": [],
   "source": [
    "nyc.write.format(\"delta\").mode('overWrite').option('overwriteSchema', 'true').save(f\"{Adls_silver_path}/finalnyc/nycparking/track2/\")"
   ]
  },
  {
   "cell_type": "code",
   "execution_count": 0,
   "metadata": {
    "application/vnd.databricks.v1+cell": {
     "cellMetadata": {},
     "inputWidgets": {},
     "nuid": "ea34d65a-2b31-4621-9593-20fff2552b4f",
     "showTitle": false,
     "title": ""
    }
   },
   "outputs": [],
   "source": []
  }
 ],
 "metadata": {
  "application/vnd.databricks.v1+notebook": {
   "dashboards": [],
   "language": "python",
   "notebookMetadata": {
    "pythonIndentUnit": 4
   },
   "notebookName": "NYC_FINAL",
   "widgets": {}
  }
 },
 "nbformat": 4,
 "nbformat_minor": 0
}
